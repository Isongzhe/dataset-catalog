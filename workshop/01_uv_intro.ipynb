{
 "cells": [
  {
   "cell_type": "markdown",
   "id": "70b4235b",
   "metadata": {},
   "source": [
    "- install uv: https://docs.astral.sh/uv/getting-started/installation/#__tabbed_1_1\n",
    "- common shell: https://docs.astral.sh/uv/getting-started/features/"
   ]
  },
  {
   "cell_type": "markdown",
   "id": "9210ff84",
   "metadata": {},
   "source": [
    "## 1. The Problem: Why Do We Need `uv`?\n"
   ]
  },
  {
   "cell_type": "markdown",
   "id": "636d94ce",
   "metadata": {},
   "source": [
    "\n",
    "For years, Python developers have relied on a combination of tools to manage projects:\n",
    "\n",
    "* **`venv`**: To create isolated environments.\n",
    "* **`pip`**: To install packages.\n",
    "* **`pip-tools`**: To pin dependencies and create `requirements.txt`.\n",
    "\n",
    "### The Pain Points:\n",
    "\n",
    "* **Slow:** `pip`'s dependency resolution can be very slow, especially in complex projects.\n",
    "* **Juggling Tools:** You need to learn and manage multiple tools and files (`venv`, `pip`, `requirements.txt`, `setup.py`).\n",
    "* **Inconsistent Environments:** It can be difficult to ensure every team member has the exact same package versions.\n",
    "\n",
    "* **Difficult Migration**: Replicating a local environment on a different system, like a server, Docker container, or an HPC cluster, is often complex. Manually managed requirements.txt files can be brittle and lead to errors during deployment.\n",
    "\n",
    "### The `uv` Solution:\n",
    "`uv` is an extremely fast Python package installer and resolver, written in Rust. It's designed to be an all-in-one, drop-in replacement for the tools mentioned above.\n",
    "\n",
    "| Feature             | Traditional Way (`pip` + `venv`) | The `uv` Way                        |\n",
    "| ------------------- | -------------------------------- | ----------------------------------- |\n",
    "| **Speed** | Slow                             | ⚡️ Blazingly Fast                   |\n",
    "| **Tools** | Multiple (pip, venv, pip-tools)  | 📦 All-in-One                       |\n",
    "| **Project Standard**| `requirements.txt`               | `pyproject.toml` (Modern Standard)  |"
   ]
  },
  {
   "cell_type": "markdown",
   "id": "953ce96f",
   "metadata": {},
   "source": [
    "## 2. Live Demo: Setting Up Our Project"
   ]
  },
  {
   "cell_type": "markdown",
   "id": "3d4f67d7",
   "metadata": {},
   "source": [
    "### Step 1: Initialize the Project\n",
    "\n",
    "First, we'll initialize our project. This is the equivalent of creating a virtual environment and a project definition file all at once.\n",
    "\n",
    "**Command to run in terminal:**\n",
    "\n",
    "```bash\n",
    "uv init --python <version> --name <project-name>\n",
    "```\n",
    "\n",
    "**What this does:**\n",
    "- Creates a `README.md` & `.gitignore` & `.python-version` file\n",
    "- Creates a `pyproject.toml` file (modern, standardized way to define a Python project)\n"
   ]
  },
  {
   "cell_type": "markdown",
   "id": "db2d2600",
   "metadata": {},
   "source": [
    "### Step 2: Add & Manage Dependencies\n",
    "\n",
    "Now we will add and manage our project's packages. The main command is `uv add`, which is a powerful, all-in-one tool for this.\n",
    "\n",
    "> ⚡️ **Speed Comparison:** `uv` uses an advanced package resolver written in Rust that is often **10-100x faster** than `pip`. It resolves all dependencies, downloads packages, and installs them in seconds\\!\n",
    "\n",
    "-----\n",
    "\n",
    "#### **Adding Packages**\n",
    "\n",
    "Let's install all the packages we need. We'll install the latest versions of some, a specific version of another, and even one with optional extras, all in a single command.\n",
    "\n",
    "**Command to run in terminal:**\n",
    "\n",
    "```bash\n",
    "uv add xarray h5netcdf \"zarr<3.0\" <package-name>\n",
    "```\n",
    "\n",
    "#### **Removing Packages**\n",
    "\n",
    "What if you add a package by mistake? `uv` makes removal just as clean and simple.\n",
    "\n",
    "**Command to run in terminal:**\n",
    "\n",
    "```bash\n",
    "uv remove h5netcdf\n",
    "```\n",
    "\n",
    "#### **Common Command**\n",
    "\n",
    "Here is a quick summary of the basic dependency commands in `uv` and their traditional equivalents.\n",
    "\n",
    "| Command | Action | Traditional (Multi-Step) Equivalent |\n",
    "| :--- | :--- | :--- |\n",
    "| `uv add <pkg>` | Adds the latest version of a package. | `pip install <pkg>` then manually add to `requirements.txt` / `pyproject.toml`. |\n",
    "| `uv add \"<pkg> <version>\"` | Adds a package with a version constraint. | `pip install \"<pkg><3\"` then manually add to `requirements.txt` / `pyproject.toml`. |\n",
    "| `uv remove <pkg>` | Removes a package. | `pip uninstall <pkg>` then manually remove from `requirements.txt` / `pyproject.toml`. |\n",
    "| `uv sync` | Installs all packages listed in the lock file to match the project's state exactly. | `pip install -r requirements.txt` |"
   ]
  },
  {
   "cell_type": "markdown",
   "id": "72d7d9cc",
   "metadata": {},
   "source": [
    "### Step 3: Making the Environment Available in Jupyter\n",
    "\n",
    "Our environment is ready, but Jupyter doesn't know about it yet. We need to install `ipykernel` and then register it as a Jupyter \"kernel\".\n",
    "\n",
    "**First, add `ipykernel` as a development dependency:**\n",
    "\n",
    "```bash\n",
    "uv add --dev ipykernel\n",
    "```\n",
    ">This command adds `ipykernel` to a special `[dev]` group. This is a best practice because `ipykernel` is a tool for our development process, not a core dependency of our project itself.\n",
    "\n",
    "\n",
    "**Then, register the kernel using `uv run`:**\n",
    "\n",
    "```bash\n",
    "uv run ipython kernel install --user --env VIRTUAL_ENV $(pwd)/.venv --name=<kernel-name>\n",
    "```\n",
    "\n",
    "\n",
    "**Further Reading:** \n",
    "\n",
    "This process is the standard method for connecting a virtual environment to Jupyter, as recommended in the **[official `uv` documentation on Jupyter Integration](https://docs.astral.sh/uv/guides/integration/jupyter/#using-jupyter-within-a-project)**."
   ]
  },
  {
   "cell_type": "markdown",
   "id": "baefa4d0",
   "metadata": {},
   "source": [
    "## 3. Verification: Testing Our Environment"
   ]
  },
  {
   "cell_type": "markdown",
   "id": "a4c35bc5",
   "metadata": {},
   "source": [
    "Now let's verify that our environment is working correctly and all libraries are available.\n",
    "\n",
    "> 🔄 **Important:** Make sure you've changed your notebook kernel to \"modern-data-workflow\" via `Kernel > Change kernel` in the notebook interface."
   ]
  },
  {
   "cell_type": "code",
   "execution_count": null,
   "id": "779470e6",
   "metadata": {},
   "outputs": [
    {
     "name": "stdout",
     "output_type": "stream",
     "text": [
      "✅ All libraries loaded successfully!\n",
      "------------------------------\n",
      "Pandas version: 2.3.1\n",
      "Polars version: 1.32.3\n",
      "Xarray version: 2025.7.1\n",
      "Intake version: 2.0.8\n",
      "Dask version: 2025.7.0\n",
      "------------------------------\n",
      "Running from Python executable at: /home/sungche/dataset-catalog/.venv/bin/python\n",
      "Python version: 3.11.13 (main, Jun 26 2025, 21:19:53) [Clang 20.1.4 ]\n",
      "------------------------------\n",
      "🎉 Environment setup complete! Ready for the workshop.\n"
     ]
    }
   ],
   "source": [
    "import pandas as pd\n",
    "import polars as pl\n",
    "import xarray as xr\n",
    "import intake\n",
    "import dask\n",
    "import sys\n",
    "\n",
    "print(\"✅ All libraries loaded successfully!\")\n",
    "print(\"-\" * 30)\n",
    "print(f\"Pandas version: {pd.__version__}\")\n",
    "print(f\"Polars version: {pl.__version__}\")\n",
    "print(f\"Xarray version: {xr.__version__}\")\n",
    "print(f\"Intake version: {intake.__version__}\")\n",
    "print(f\"Dask version: {dask.__version__}\")\n",
    "print(\"-\" * 30)\n",
    "print(f\"Running from Python executable at: {sys.executable}\")\n",
    "print(f\"Python version: {sys.version}\")\n",
    "print(\"-\" * 30)\n",
    "print(\"🎉 Environment setup complete! Ready for the workshop.\")"
   ]
  },
  {
   "cell_type": "markdown",
   "id": "690e5937",
   "metadata": {},
   "source": [
    "### Additional Verification Tests\n",
    "\n",
    "Let's also verify that our key data science libraries are working properly:"
   ]
  },
  {
   "cell_type": "code",
   "execution_count": 10,
   "id": "cf170da0",
   "metadata": {},
   "outputs": [
    {
     "name": "stdout",
     "output_type": "stream",
     "text": [
      "Testing Pandas...\n",
      "Created DataFrame with shape: (3, 3)\n",
      "      name  age      city\n",
      "0    Alice   25  New York\n",
      "1      Bob   30    London\n",
      "2  Charlie   35     Tokyo\n"
     ]
    }
   ],
   "source": [
    "# Test Pandas\n",
    "print(\"Testing Pandas...\")\n",
    "df_pandas = pd.DataFrame({\n",
    "    'name': ['Alice', 'Bob', 'Charlie'],\n",
    "    'age': [25, 30, 35],\n",
    "    'city': ['New York', 'London', 'Tokyo']\n",
    "})\n",
    "print(f\"Created DataFrame with shape: {df_pandas.shape}\")\n",
    "print(df_pandas.head())"
   ]
  },
  {
   "cell_type": "code",
   "execution_count": 11,
   "id": "3cf7122d",
   "metadata": {},
   "outputs": [
    {
     "name": "stdout",
     "output_type": "stream",
     "text": [
      "⚡ Testing Polars...\n",
      "Created DataFrame with shape: (3, 3)\n",
      "shape: (3, 3)\n",
      "┌─────────┬─────┬──────────┐\n",
      "│ name    ┆ age ┆ city     │\n",
      "│ ---     ┆ --- ┆ ---      │\n",
      "│ str     ┆ i64 ┆ str      │\n",
      "╞═════════╪═════╪══════════╡\n",
      "│ Alice   ┆ 25  ┆ New York │\n",
      "│ Bob     ┆ 30  ┆ London   │\n",
      "│ Charlie ┆ 35  ┆ Tokyo    │\n",
      "└─────────┴─────┴──────────┘\n"
     ]
    }
   ],
   "source": [
    "# Test Polars\n",
    "print(\"⚡ Testing Polars...\")\n",
    "df_polars = pl.DataFrame({\n",
    "    'name': ['Alice', 'Bob', 'Charlie'],\n",
    "    'age': [25, 30, 35],\n",
    "    'city': ['New York', 'London', 'Tokyo']\n",
    "})\n",
    "print(f\"Created DataFrame with shape: {df_polars.shape}\")\n",
    "print(df_polars)"
   ]
  },
  {
   "cell_type": "code",
   "execution_count": 12,
   "id": "4bef3125",
   "metadata": {},
   "outputs": [
    {
     "name": "stdout",
     "output_type": "stream",
     "text": [
      "Testing Xarray...\n",
      "Created DataArray with shape: (10, 5, 8)\n",
      "<xarray.DataArray 'temperature' (time: 10, lat: 5, lon: 8)> Size: 3kB\n",
      "array([[[0.2809217 , 0.73292122, 0.60567124, 0.68875872, 0.95704439,\n",
      "         0.13539331, 0.38162669, 0.68259105],\n",
      "        [0.21053472, 0.7607102 , 0.80200106, 0.14223788, 0.04942991,\n",
      "         0.31708366, 0.66811609, 0.21079527],\n",
      "        [0.53963087, 0.46889853, 0.4205883 , 0.83784638, 0.22897254,\n",
      "         0.08431242, 0.75261633, 0.4724833 ],\n",
      "        [0.76613207, 0.83886863, 0.0916331 , 0.03818245, 0.53000047,\n",
      "         0.46203885, 0.78927712, 0.12874527],\n",
      "        [0.32392141, 0.87020094, 0.50327429, 0.19434995, 0.3640839 ,\n",
      "         0.60347781, 0.06651126, 0.09348436]],\n",
      "\n",
      "       [[0.00464689, 0.4127855 , 0.76469261, 0.39075673, 0.28266684,\n",
      "         0.05608223, 0.56405802, 0.10075125],\n",
      "        [0.84410181, 0.95337024, 0.34818467, 0.68714307, 0.64329477,\n",
      "         0.95430542, 0.91407895, 0.33724874],\n",
      "        [0.53792368, 0.30163832, 0.76501363, 0.87015267, 0.79578303,\n",
      "         0.75748986, 0.96261908, 0.2954155 ],\n",
      "        [0.36630033, 0.12039365, 0.99259741, 0.28343309, 0.91221696,\n",
      "         0.91028205, 0.79117224, 0.96028854],\n",
      "        [0.32957068, 0.88522223, 0.92288654, 0.18680853, 0.88860749,\n",
      "...\n",
      "         0.36545318, 0.54343116, 0.71410971],\n",
      "        [0.21388711, 0.32330286, 0.78295824, 0.52835223, 0.6243029 ,\n",
      "         0.53300339, 0.57436889, 0.57494571],\n",
      "        [0.30458224, 0.72419131, 0.04334206, 0.71489061, 0.35030131,\n",
      "         0.67834488, 0.95154884, 0.92979233],\n",
      "        [0.85570726, 0.02009267, 0.68674519, 0.02489978, 0.74224187,\n",
      "         0.59495452, 0.18810365, 0.67543313],\n",
      "        [0.03511159, 0.10943443, 0.44386781, 0.99770792, 0.43627938,\n",
      "         0.67511151, 0.77587708, 0.70615712]],\n",
      "\n",
      "       [[0.16356003, 0.04252657, 0.84059437, 0.41401812, 0.90062372,\n",
      "         0.42175393, 0.87912837, 0.26005298],\n",
      "        [0.04071163, 0.40504194, 0.87520553, 0.20247401, 0.723033  ,\n",
      "         0.35764086, 0.03510852, 0.55715242],\n",
      "        [0.23175883, 0.68459345, 0.41212647, 0.79910641, 0.52299315,\n",
      "         0.16121575, 0.03777334, 0.58635611],\n",
      "        [0.12882925, 0.52761958, 0.85812557, 0.52065202, 0.14501261,\n",
      "         0.98370101, 0.93515076, 0.90710696],\n",
      "        [0.15861148, 0.48190514, 0.45793968, 0.38200522, 0.24255536,\n",
      "         0.80428378, 0.74208724, 0.57908528]]])\n",
      "Coordinates:\n",
      "  * time     (time) datetime64[ns] 80B 2023-01-01 2023-01-02 ... 2023-01-10\n",
      "  * lat      (lat) float64 40B -90.0 -45.0 0.0 45.0 90.0\n",
      "  * lon      (lon) float64 64B -180.0 -128.6 -77.14 -25.71 ... 77.14 128.6 180.0\n"
     ]
    }
   ],
   "source": [
    "# Test Xarray\n",
    "print(\"Testing Xarray...\")\n",
    "import numpy as np\n",
    "\n",
    "# Create a simple 3D array (time, lat, lon)\n",
    "data = np.random.rand(10, 5, 8)\n",
    "coords = {\n",
    "    'time': pd.date_range('2023-01-01', periods=10),\n",
    "    'lat': np.linspace(-90, 90, 5),\n",
    "    'lon': np.linspace(-180, 180, 8)\n",
    "}\n",
    "da = xr.DataArray(data, coords=coords, dims=['time', 'lat', 'lon'], name='temperature')\n",
    "print(f\"Created DataArray with shape: {da.shape}\")\n",
    "print(da)"
   ]
  },
  {
   "cell_type": "markdown",
   "id": "1f07f5ef",
   "metadata": {},
   "source": [
    "## 4. Recap: What We Gained with `uv`"
   ]
  },
  {
   "cell_type": "markdown",
   "id": "2d898097",
   "metadata": {},
   "source": [
    "\n",
    "### Key Benefits\n",
    "\n",
    "* **⚡️ Speed:** We set up a complex environment in seconds, not minutes.\n",
    "* **📦 All-in-One:** We used a single tool (`uv`) instead of juggling `venv`, `pip`, and `pip-tools`.\n",
    "* **🔄 Reproducibility:** Our dependencies are locked in `pyproject.toml`, so any team member can create an identical environment with a simple `uv sync`.\n",
    "* **🎯 Modern Standards:** We're using `pyproject.toml` which is the modern Python packaging standard.\n",
    "\n",
    "### What `uv` Did for Us\n",
    "\n",
    "1. **Environment Creation:** Created an isolated Python environment (`.venv`)\n",
    "2. **Dependency Resolution:** Resolved complex dependency trees ultra-fast\n",
    "3. **Package Installation:** Downloaded and installed all packages\n",
    "4. **Lock File Generation:** Created exact version specifications\n",
    "5. **Project Definition:** Set up proper `pyproject.toml` configuration\n",
    "\n",
    "### Traditional vs Modern Workflow\n",
    "\n",
    "| Task | Traditional Way | The `uv` Way |\n",
    "|------|----------------|--------------|\n",
    "| Create environment | `python -m venv .venv` | |\n",
    "| Activate environment | `source .venv/bin/activate` | |\n",
    "| Install packages | `pip install pandas polars ...` | `uv add pandas polars ...` |\n",
    "| Lock dependencies | `pip freeze > requirements.txt` | Automatic in `uv.lock` |\n",
    "| Reproduce environment | `pip install -r requirements.txt` | `uv sync` |\n",
    "| **Total Commands** | **4+ commands** | **1 command** |"
   ]
  },
  {
   "cell_type": "markdown",
   "id": "1c3ff787",
   "metadata": {},
   "source": [
    "## 5. Useful `uv` Commands Reference"
   ]
  },
  {
   "cell_type": "markdown",
   "id": "02ae7794",
   "metadata": {},
   "source": [
    "\n",
    "Here are some essential `uv` commands you'll use in your daily workflow:\n",
    "\n",
    "### Project Management\n",
    "```bash\n",
    "uv init                    # Initialize a new project\n",
    "uv add <package>          # Add a new dependency\n",
    "uv remove <package>       # Remove a dependency\n",
    "uv sync                   # Install dependencies from lock file\n",
    "uv lock                   # Update the lock file\n",
    "```\n",
    "\n",
    "### Environment Management\n",
    "```bash\n",
    "uv venv                   # Create virtual environment only\n",
    "uv run <command>          # Run command in the environment\n",
    "uv run python script.py  # Run Python script with dependencies\n",
    "uv run jupyter lab        # Start Jupyter Lab with all dependencies\n",
    "```\n",
    "\n",
    "### Information Commands\n",
    "```bash\n",
    "uv tree                   # Show dependency tree\n",
    "uv list                   # List installed packages\n",
    "uv show <package>         # Show package information\n",
    "```\n",
    "\n",
    "### Advanced Usage\n",
    "```bash\n",
    "uv add <package> --dev    # Add development dependency\n",
    "uv export --format requirements-txt  # Export to requirements.txt\n",
    "uv pip compile requirements.in       # Traditional pip-tools workflow\n",
    "```"
   ]
  },
  {
   "cell_type": "markdown",
   "id": "24b25243",
   "metadata": {},
   "source": [
    "## 6. Troubleshooting Common Issues\n",
    "\n",
    "### Kernel Not Available in Jupyter\n",
    "If you don't see the \"modern-data-workflow\" kernel:\n",
    "1. Make sure you activated the environment: `source .venv/bin/activate`\n",
    "2. Re-run the kernel installation: `python -m ipykernel install --user --name=\"modern-data-workflow\"`\n",
    "3. Restart Jupyter Lab/Notebook\n",
    "4. Refresh the kernel list\n",
    "\n",
    "### Import Errors\n",
    "If you get import errors:\n",
    "1. Check you're using the correct kernel in your notebook\n",
    "2. Verify packages are installed: `uv list`\n",
    "3. Try reinstalling: `uv sync --reinstall`\n",
    "\n",
    "### Environment Issues\n",
    "If the environment seems corrupted:\n",
    "1. Remove and recreate: `rm -rf .venv && uv sync`\n",
    "2. Check Python version compatibility\n",
    "3. Update uv: `pip install --upgrade uv`\n",
    "\n",
    "### Performance Tips\n",
    "- Use `uv run` for one-off commands instead of activating\n",
    "- Keep `uv.lock` in version control for reproducibility\n",
    "- Use `uv tree` to understand dependency conflicts"
   ]
  }
 ],
 "metadata": {
  "kernelspec": {
   "display_name": "intake-3090",
   "language": "python",
   "name": "intake-3090"
  },
  "language_info": {
   "codemirror_mode": {
    "name": "ipython",
    "version": 3
   },
   "file_extension": ".py",
   "mimetype": "text/x-python",
   "name": "python",
   "nbconvert_exporter": "python",
   "pygments_lexer": "ipython3",
   "version": "3.11.13"
  }
 },
 "nbformat": 4,
 "nbformat_minor": 5
}
