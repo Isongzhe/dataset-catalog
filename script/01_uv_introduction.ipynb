{
 "cells": [
  {
   "cell_type": "markdown",
   "id": "0ee3a263",
   "metadata": {},
   "source": [
    "# Part 1: UV - Modern Python Project Management\n",
    "\n",
    "**Workshop Overview:** Learn how to use `uv` as a fast, modern replacement for traditional Python environment and dependency management tools."
   ]
  },
  {
   "cell_type": "markdown",
   "id": "9210ff84",
   "metadata": {},
   "source": [
    "## 1. The Problem: Why Do We Need `uv`?"
   ]
  },
  {
   "cell_type": "markdown",
   "id": "636d94ce",
   "metadata": {},
   "source": [
    "For years, Python developers have relied on a combination of tools to manage projects:\n",
    "\n",
    "* **`venv`**: To create isolated environments\n",
    "* **`pip`**: To install packages\n",
    "* **`pip-tools`**: To pin dependencies and create `requirements.txt`\n",
    "\n",
    "### The Pain Points:\n",
    "\n",
    "* **Slow Performance:** `pip`'s dependency resolution can be very slow, especially in complex projects\n",
    "* **Tool Complexity:** You need to learn and manage multiple tools and files (`venv`, `pip`, `requirements.txt`, `setup.py`)\n",
    "* **Environment Inconsistency:** It can be difficult to ensure every team member has exactly the same package versions\n",
    "* **Deployment Challenges:** Replicating a local environment on different systems (servers, Docker containers, HPC clusters) is often complex and error-prone\n",
    "\n",
    "### The `uv` Solution:\n",
    "`uv` is an extremely fast Python package installer and resolver, written in Rust. It's designed to be a **drop-in replacement** for traditional Python tooling.\n",
    "\n",
    "| Feature             | Traditional Way (`pip` + `venv`) | The `uv` Way                        |\n",
    "| ------------------- | -------------------------------- | ----------------------------------- |\n",
    "| **Speed** | Slow dependency resolution             | ⚡️ **10-100x faster** resolution                   |\n",
    "| **Tools** | Multiple separate tools  | 📦 **All-in-One** solution                       |\n",
    "| **Project Standard**| `requirements.txt` (legacy)               | `pyproject.toml` (**Modern Standard**)  |\n",
    "| **Reproducibility** | Manual version management | 🔒 **Automatic lock files** |"
   ]
  },
  {
   "cell_type": "markdown",
   "id": "953ce96f",
   "metadata": {},
   "source": [
    "## 2. Live Demo: Setting Up Our Project"
   ]
  },
  {
   "cell_type": "markdown",
   "id": "5a8133af",
   "metadata": {},
   "source": [
    "### Step 0: Get Started\n",
    "\n",
    "Before we begin, you'll need to get the project files. Choose one of the two methods below to prepare your environment.\n",
    "\n",
    "#### Option 1: Clone with Git (Recommended)\n",
    "\n",
    "This is the best way to get the latest version of the project and is a common practice in software development.\n",
    "\n",
    "First, clone the repository and navigate into the project directory:\n",
    "\n",
    "```bash\n",
    "git clone https://github.com/Isongzhe/dataset-catalog.git\n",
    "cd dataset-catalog\n",
    "```\n",
    "\n",
    "Once inside the folder, back up the existing configuration files so you can practice creating them from scratch:\n",
    "\n",
    "```bash\n",
    "mv pyproject.toml pyproject.toml.bak\n",
    "mv uv.lock uv.lock.bak\n",
    "```\n",
    "\n",
    "#### Option 2: Copy from Local Storage\n",
    "\n",
    "If you've already downloaded the project files to a local drive or NAS, this method is a fast way to get started.\n",
    "\n",
    "Make sure you're in an empty directory. Then, copy the project's contents into your current folder:\n",
    "\n",
    "```bash\n",
    "cp -r /home/NAS/homes/sungche-10024/workshop/dataset-catalog/* .\n",
    "```\n",
    "\n",
    "After copying the files, back up the existing `uv` configuration files:\n",
    "\n",
    "```bash\n",
    "mv pyproject.toml pyproject.toml.bak\n",
    "mv uv.lock uv.lock.bak\n",
    "```"
   ]
  },
  {
   "cell_type": "markdown",
   "id": "3d4f67d7",
   "metadata": {},
   "source": [
    "### Step 1: Initialize the Project\n",
    "\n",
    "First, we'll initialize our project. This is equivalent to creating a virtual environment and project definition file all at once.\n",
    "\n",
    "**Command to run in terminal:**\n",
    "\n",
    "```bash\n",
    "uv init --python 3.11 --name dataset-catalog\n",
    "```\n",
    "\n",
    "**What this does:**\n",
    "- Creates a `README.md`, `.gitignore`, and `.python-version` file\n",
    "- Creates a `pyproject.toml` file (modern, standardized way to define a Python project)\n",
    "- Sets up the project structure following modern Python standards\n",
    "\n",
    "**Alternative for existing projects:**\n",
    "```bash\n",
    "uv init --no-readme --name dataset-catalog\n",
    "```"
   ]
  },
  {
   "cell_type": "markdown",
   "id": "db2d2600",
   "metadata": {},
   "source": [
    "### Step 2: Add & Manage Dependencies\n",
    "\n",
    "Now we'll add and manage our project's packages. The main command is `uv add`, which is a powerful, all-in-one tool for dependency management.\n",
    "\n",
    "> ⚡️ **Speed Comparison:** `uv` uses an advanced package resolver written in Rust that is often **10-100x faster** than `pip`. It resolves all dependencies, downloads packages, and installs them in seconds!\n",
    "\n",
    "-----\n",
    "\n",
    "#### **Adding Packages**\n",
    "\n",
    "Let's install all the packages we need for this workshop. We'll install specific versions and demonstrate different installation patterns.\n",
    "\n",
    "**Commands to run in terminal:**\n",
    "\n",
    "```bash\n",
    "# Add packages with version constraints\n",
    "uv add xarray \"zarr<3.0\" \n",
    "\n",
    "# Add additional dependencies for this workshop\n",
    "uv add intake-xarray intake-parquet dask h5netcdf jinja2\n",
    "```\n",
    "\n",
    "#### **Removing Packages**\n",
    "\n",
    "If you add a package by mistake, `uv` makes removal clean and simple.\n",
    "\n",
    "**Command to run in terminal:**\n",
    "\n",
    "```bash\n",
    "uv remove <package-name>\n",
    "```\n",
    "\n",
    "#### **Common Commands Reference**\n",
    "\n",
    "Here's a quick summary of the basic dependency commands in `uv` and their traditional equivalents:\n",
    "\n",
    "| Command | Action | Traditional (Multi-Step) Equivalent |\n",
    "| :--- | :--- | :--- |\n",
    "| `uv add <pkg>` | Adds the latest version of a package | `pip install <pkg>` then manually add to `requirements.txt` |\n",
    "| `uv add \"<pkg><version>\"` | Adds a package with version constraint | `pip install \"<pkg><version>\"` then manual file updates |\n",
    "| `uv remove <pkg>` | Removes a package cleanly | `pip uninstall <pkg>` then manual file cleanup |\n",
    "| `uv sync` | Installs exact versions from lock file | `pip install -r requirements.txt` (but less reliable) |"
   ]
  },
  {
   "cell_type": "markdown",
   "id": "72d7d9cc",
   "metadata": {},
   "source": [
    "### Step 3: Making the Environment Available in Jupyter\n",
    "\n",
    "Our environment is ready, but Jupyter doesn't know about it yet. We need to install `ipykernel` and register it as a Jupyter \"kernel\".\n",
    "\n",
    "**First, add `ipykernel` as a development dependency:**\n",
    "\n",
    "```bash\n",
    "uv add --dev ipykernel\n",
    "```\n",
    ">This command adds `ipykernel` to a special `[dev]` group. This is a best practice because `ipykernel` is a development tool, not a core dependency of our project.\n",
    "\n",
    "**Then, register the kernel using `uv run`:**\n",
    "\n",
    "```bash\n",
    "uv run ipython kernel install --user --env VIRTUAL_ENV $(pwd)/.venv --name=\"dataset-catalog-workshop\"\n",
    "```\n",
    "\n",
    "**After registration:**\n",
    "- Restart Jupyter Lab/Notebook\n",
    "- Select \"dataset-catalog\" as your kernel from the kernel dropdown\n",
    "- You should now have access to all installed packages\n",
    "\n",
    "**Further Reading:** \n",
    "\n",
    "This process follows the standard method for connecting virtual environments to Jupyter, as recommended in the **[official `uv` documentation on Jupyter Integration](https://docs.astral.sh/uv/guides/integration/jupyter/#using-jupyter-within-a-project)**."
   ]
  },
  {
   "cell_type": "markdown",
   "id": "baefa4d0",
   "metadata": {},
   "source": [
    "## 3. Verification: Testing Our Environment"
   ]
  },
  {
   "cell_type": "markdown",
   "id": "a4c35bc5",
   "metadata": {},
   "source": [
    "Now let's verify that our environment is working correctly and all libraries are available.\n",
    "\n",
    "> 🔄 **Important:** Make sure you've changed your notebook kernel to \"dataset-catalog\" via `Kernel > Change kernel` in the notebook interface."
   ]
  },
  {
   "cell_type": "code",
   "execution_count": 1,
   "id": "779470e6",
   "metadata": {},
   "outputs": [
    {
     "name": "stdout",
     "output_type": "stream",
     "text": [
      "✅ All libraries loaded successfully!\n",
      "------------------------------\n",
      "Pandas version: 2.3.1\n",
      "Xarray version: 2025.8.0\n",
      "Intake version: 2.0.8\n",
      "Dask version: 2025.7.0\n",
      "------------------------------\n",
      "Running from Python executable at: /home/sungche/dataset-catalog/.venv/bin/python\n",
      "Python version: 3.11.13 (main, Jun 26 2025, 21:19:53) [Clang 20.1.4 ]\n",
      "------------------------------\n",
      "🎉 Environment setup complete! Ready for the workshop.\n"
     ]
    }
   ],
   "source": [
    "import pandas as pd\n",
    "import xarray as xr\n",
    "import intake\n",
    "import dask\n",
    "import sys\n",
    "\n",
    "print(\"✅ All libraries loaded successfully!\")\n",
    "print(\"-\" * 30)\n",
    "print(f\"Pandas version: {pd.__version__}\")\n",
    "print(f\"Xarray version: {xr.__version__}\")\n",
    "print(f\"Intake version: {intake.__version__}\")\n",
    "print(f\"Dask version: {dask.__version__}\")\n",
    "print(\"-\" * 30)\n",
    "print(f\"Running from Python executable at: {sys.executable}\")\n",
    "print(f\"Python version: {sys.version}\")\n",
    "print(\"-\" * 30)\n",
    "print(\"🎉 Environment setup complete! Ready for the workshop.\")"
   ]
  },
  {
   "cell_type": "markdown",
   "id": "690e5937",
   "metadata": {},
   "source": [
    "### Additional Verification Tests\n",
    "\n",
    "Let's also verify that our key data science libraries are working properly:"
   ]
  },
  {
   "cell_type": "code",
   "execution_count": 2,
   "id": "cf170da0",
   "metadata": {},
   "outputs": [
    {
     "name": "stdout",
     "output_type": "stream",
     "text": [
      "Testing Pandas...\n",
      "Created DataFrame with shape: (3, 3)\n",
      "      name  age      city\n",
      "0    Alice   25  New York\n",
      "1      Bob   30    London\n",
      "2  Charlie   35     Tokyo\n"
     ]
    }
   ],
   "source": [
    "# Test Pandas\n",
    "print(\"Testing Pandas...\")\n",
    "df_pandas = pd.DataFrame({\n",
    "    'name': ['Alice', 'Bob', 'Charlie'],\n",
    "    'age': [25, 30, 35],\n",
    "    'city': ['New York', 'London', 'Tokyo']\n",
    "})\n",
    "print(f\"Created DataFrame with shape: {df_pandas.shape}\")\n",
    "print(df_pandas.head())"
   ]
  },
  {
   "cell_type": "code",
   "execution_count": 3,
   "id": "4bef3125",
   "metadata": {},
   "outputs": [
    {
     "name": "stdout",
     "output_type": "stream",
     "text": [
      "Testing Xarray...\n",
      "Created DataArray with shape: (10, 5, 8)\n",
      "<xarray.DataArray 'temperature' (time: 10, lat: 5, lon: 8)> Size: 3kB\n",
      "array([[[0.22346567, 0.42507899, 0.87154802, 0.61154616, 0.9364686 ,\n",
      "         0.8611716 , 0.36821849, 0.54035126],\n",
      "        [0.12247514, 0.05833557, 0.83826056, 0.241185  , 0.7602889 ,\n",
      "         0.21085674, 0.91653239, 0.78295684],\n",
      "        [0.39672825, 0.50790339, 0.2658263 , 0.57536602, 0.98529021,\n",
      "         0.46852209, 0.82207303, 0.73590505],\n",
      "        [0.75470253, 0.67638644, 0.3764746 , 0.15675023, 0.71697019,\n",
      "         0.13609279, 0.69116073, 0.52801706],\n",
      "        [0.23131365, 0.16682917, 0.16527334, 0.58417078, 0.64426829,\n",
      "         0.60535252, 0.71375071, 0.67478242]],\n",
      "\n",
      "       [[0.90277955, 0.8320828 , 0.07455613, 0.8328408 , 0.72185153,\n",
      "         0.59623708, 0.78192752, 0.13035124],\n",
      "        [0.2536184 , 0.015503  , 0.39260139, 0.75361769, 0.54781059,\n",
      "         0.79969561, 0.02305845, 0.05632728],\n",
      "        [0.15260089, 0.05760107, 0.8416598 , 0.86724957, 0.92826488,\n",
      "         0.00126776, 0.25631161, 0.46625233],\n",
      "        [0.6517594 , 0.59111162, 0.90934156, 0.15477967, 0.24397124,\n",
      "         0.69314531, 0.87286186, 0.19250835],\n",
      "        [0.67907444, 0.4067522 , 0.23404121, 0.21403784, 0.49976796,\n",
      "...\n",
      "         0.05312489, 0.73904439, 0.37275371],\n",
      "        [0.0734199 , 0.83765033, 0.7166782 , 0.21651621, 0.78804169,\n",
      "         0.85515118, 0.21755561, 0.22631174],\n",
      "        [0.04127313, 0.62305812, 0.43863809, 0.19634654, 0.97954679,\n",
      "         0.13676415, 0.86736395, 0.94358431],\n",
      "        [0.61717464, 0.67339047, 0.84849309, 0.4701466 , 0.23426487,\n",
      "         0.57983268, 0.14827424, 0.63958898],\n",
      "        [0.1773597 , 0.72699369, 0.95267481, 0.92688715, 0.99143889,\n",
      "         0.12404131, 0.87447688, 0.85095606]],\n",
      "\n",
      "       [[0.93101334, 0.39405954, 0.10141842, 0.84636929, 0.58296302,\n",
      "         0.41463045, 0.16495585, 0.6169173 ],\n",
      "        [0.15027516, 0.56642158, 0.22838887, 0.40676995, 0.32948764,\n",
      "         0.79108587, 0.09363639, 0.73036282],\n",
      "        [0.9241153 , 0.46316747, 0.37748281, 0.95181011, 0.94898386,\n",
      "         0.34839899, 0.41991323, 0.10397223],\n",
      "        [0.79919367, 0.88218326, 0.96382561, 0.86276817, 0.16926402,\n",
      "         0.57602347, 0.37808073, 0.30860377],\n",
      "        [0.08149582, 0.73462848, 0.60625896, 0.45634809, 0.95272765,\n",
      "         0.90876145, 0.06340938, 0.16847056]]])\n",
      "Coordinates:\n",
      "  * time     (time) datetime64[ns] 80B 2023-01-01 2023-01-02 ... 2023-01-10\n",
      "  * lat      (lat) float64 40B -90.0 -45.0 0.0 45.0 90.0\n",
      "  * lon      (lon) float64 64B -180.0 -128.6 -77.14 -25.71 ... 77.14 128.6 180.0\n"
     ]
    }
   ],
   "source": [
    "# Test Xarray\n",
    "print(\"Testing Xarray...\")\n",
    "import numpy as np\n",
    "\n",
    "# Create a simple 3D array (time, lat, lon)\n",
    "data = np.random.rand(10, 5, 8)\n",
    "coords = {\n",
    "    'time': pd.date_range('2023-01-01', periods=10),\n",
    "    'lat': np.linspace(-90, 90, 5),\n",
    "    'lon': np.linspace(-180, 180, 8)\n",
    "}\n",
    "da = xr.DataArray(data, coords=coords, dims=['time', 'lat', 'lon'], name='temperature')\n",
    "print(f\"Created DataArray with shape: {da.shape}\")\n",
    "print(da)"
   ]
  },
  {
   "cell_type": "markdown",
   "id": "1f07f5ef",
   "metadata": {},
   "source": [
    "## 4. Recap: What We Gained with `uv`"
   ]
  },
  {
   "cell_type": "markdown",
   "id": "2d898097",
   "metadata": {},
   "source": [
    "### Key Benefits Achieved\n",
    "\n",
    "* **⚡️ Speed:** We set up a complex environment in seconds, not minutes\n",
    "* **📦 Unified Tooling:** We used a single tool (`uv`) instead of juggling `venv`, `pip`, and `pip-tools`\n",
    "* **🔄 Perfect Reproducibility:** Our dependencies are locked in `pyproject.toml` and `uv.lock`, ensuring any team member can create an identical environment with `uv sync`\n",
    "* **🎯 Modern Standards:** We're using `pyproject.toml`, which is the modern Python packaging standard (PEP 518)\n",
    "\n",
    "### What `uv` Accomplished for Us\n",
    "\n",
    "1. **Environment Creation:** Created an isolated Python environment (`.venv`)\n",
    "2. **Lightning-Fast Resolution:** Resolved complex dependency trees in seconds\n",
    "3. **Package Installation:** Downloaded and installed all packages efficiently\n",
    "4. **Automatic Lock Files:** Created exact version specifications in `uv.lock`\n",
    "5. **Project Definition:** Set up proper `pyproject.toml` configuration\n",
    "\n",
    "### Traditional vs Modern Workflow Comparison\n",
    "\n",
    "| Task | Traditional Way | The `uv` Way | Time Saved |\n",
    "|------|----------------|--------------|-------------|\n",
    "| Create environment | `python -m venv .venv` | `uv venv` | ~Same |\n",
    "| Activate & run | `source .venv/bin/activate` + `python main.py` | `uv run main.py` | **50% faster** |\n",
    "| Install packages | `pip install pandas xarray ...` | `uv add pandas xarray ...` | **10-100x faster** |\n",
    "| Lock dependencies | `pip freeze > requirements.txt` | **Automatic** in `uv.lock` | **Manual → Automatic** |\n",
    "| Reproduce environment | `pip install -r requirements.txt` | `uv sync` | **More reliable** |"
   ]
  },
  {
   "cell_type": "markdown",
   "id": "1c3ff787",
   "metadata": {},
   "source": [
    "## 5. Useful `uv` Commands Reference"
   ]
  },
  {
   "cell_type": "markdown",
   "id": "02ae7794",
   "metadata": {},
   "source": [
    "\n",
    "Here are some essential `uv` commands you'll use in your daily workflow:\n",
    "\n",
    "### Project Management\n",
    "```bash\n",
    "uv init                    # Initialize a new project\n",
    "uv add <package>          # Add a new dependency\n",
    "uv remove <package>       # Remove a dependency\n",
    "uv sync                   # Install dependencies from lock file\n",
    "```\n",
    "\n",
    "### Environment Management\n",
    "```bash\n",
    "uv venv                   # Create virtual environment only\n",
    "uv run <command>          # Run command in the environment\n",
    "uv run python script.py  # Run Python script with dependencies\n",
    "uv run jupyter lab        # Start Jupyter Lab with all dependencies\n",
    "```\n",
    "\n",
    "### Information Commands\n",
    "```bash\n",
    "uv tree                   # Show dependency tree\n",
    "uv list                   # List installed packages\n",
    "uv show <package>         # Show package information\n",
    "```\n",
    "\n",
    "### Advanced Usage\n",
    "```bash\n",
    "uv add <package> --dev     # Add a development dependency\n",
    "uv python list             # List all Python versions installed via uv\n",
    "uv python install <version> # Install a specific Python version\n",
    "```\n",
    "\n",
    "\n",
    "common shell: https://docs.astral.sh/uv/getting-started/features/"
   ]
  }
 ],
 "metadata": {
  "kernelspec": {
   "display_name": "dataset-catalog-workshop",
   "language": "python",
   "name": "dataset-catalog-workshop"
  },
  "language_info": {
   "codemirror_mode": {
    "name": "ipython",
    "version": 3
   },
   "file_extension": ".py",
   "mimetype": "text/x-python",
   "name": "python",
   "nbconvert_exporter": "python",
   "pygments_lexer": "ipython3",
   "version": "3.11.13"
  }
 },
 "nbformat": 4,
 "nbformat_minor": 5
}
