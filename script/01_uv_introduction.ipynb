{
 "cells": [
  {
   "cell_type": "markdown",
   "id": "70b4235b",
   "metadata": {},
   "source": [
    "- install uv: https://docs.astral.sh/uv/getting-started/installation/#__tabbed_1_1\n",
    "- common shell: https://docs.astral.sh/uv/getting-started/features/"
   ]
  },
  {
   "cell_type": "markdown",
   "id": "9210ff84",
   "metadata": {},
   "source": [
    "## 1. The Problem: Why Do We Need `uv`?\n"
   ]
  },
  {
   "cell_type": "markdown",
   "id": "636d94ce",
   "metadata": {},
   "source": [
    "\n",
    "For years, Python developers have relied on a combination of tools to manage projects:\n",
    "\n",
    "* **`venv`**: To create isolated environments.\n",
    "* **`pip`**: To install packages.\n",
    "* **`pip-tools`**: To pin dependencies and create `requirements.txt`.\n",
    "\n",
    "### The Pain Points:\n",
    "\n",
    "* **Slow:** `pip`'s dependency resolution can be very slow, especially in complex projects.\n",
    "* **Juggling Tools:** You need to learn and manage multiple tools and files (`venv`, `pip`, `requirements.txt`, `setup.py`).\n",
    "* **Inconsistent Environments:** It can be difficult to ensure every team member has the exact same package versions.\n",
    "\n",
    "* **Difficult Migration**: Replicating a local environment on a different system, like a server, Docker container, or an HPC cluster, is often complex. Manually managed requirements.txt files can be brittle and lead to errors during deployment.\n",
    "\n",
    "### The `uv` Solution:\n",
    "`uv` is an extremely fast Python package installer and resolver, written in Rust. It's designed to be an all-in-one, drop-in replacement for the tools mentioned above.\n",
    "\n",
    "| Feature             | Traditional Way (`pip` + `venv`) | The `uv` Way                        |\n",
    "| ------------------- | -------------------------------- | ----------------------------------- |\n",
    "| **Speed** | Slow                             | ⚡️ Blazingly Fast                   |\n",
    "| **Tools** | Multiple (pip, venv, pip-tools)  | 📦 All-in-One                       |\n",
    "| **Project Standard**| `requirements.txt`               | `pyproject.toml` (Modern Standard)  |"
   ]
  },
  {
   "cell_type": "markdown",
   "id": "953ce96f",
   "metadata": {},
   "source": [
    "## 2. Live Demo: Setting Up Our Project"
   ]
  },
  {
   "cell_type": "markdown",
   "id": "5a8133af",
   "metadata": {},
   "source": [
    "### Step 0: Get Started\n",
    "\n",
    "Before we begin, you'll need to get the project files. Choose one of the two methods below to prepare your environment.\n",
    "\n",
    "#### Option 1: Clone with Git (Recommended)\n",
    "\n",
    "This is the best way to get the latest version of the project and is a common practice in software development.\n",
    "\n",
    "First, clone the repository and navigate into the project directory:\n",
    "\n",
    "```bash\n",
    "git clone https://github.com/Isongzhe/dataset-catalog.git\n",
    "cd dataset-catalog\n",
    "```\n",
    "\n",
    "Once inside the folder, back up the existing configuration files so you can practice creating them from scratch:\n",
    "\n",
    "```bash\n",
    "mv pyproject.toml pyproject.toml.bak\n",
    "mv uv.lock uv.lock.bak\n",
    "```\n",
    "\n",
    "#### Option 2: Copy from Local Storage\n",
    "\n",
    "If you've already downloaded the project files to a local drive or NAS, this method is a fast way to get started.\n",
    "\n",
    "Make sure you're in an empty directory. Then, copy the project's contents into your current folder:\n",
    "\n",
    "```bash\n",
    "cp -r /home/NAS/homes/sungche-10024/workshop/dataset-catalog/* .\n",
    "```\n",
    "\n",
    "After copying the files, back up the existing `uv` configuration files:\n",
    "\n",
    "```bash\n",
    "mv pyproject.toml pyproject.toml.bak\n",
    "mv uv.lock uv.lock.bak\n",
    "```"
   ]
  },
  {
   "cell_type": "markdown",
   "id": "3d4f67d7",
   "metadata": {},
   "source": [
    "### Step 1: Initialize the Project\n",
    "\n",
    "First, we'll initialize our project. This is the equivalent of creating a virtual environment and a project definition file all at once.\n",
    "\n",
    "**Command to run in terminal:**\n",
    "\n",
    "```bash\n",
    "uv init --python <version> --name <project-name>\n",
    "```\n",
    "\n",
    "**What this does:**\n",
    "- Creates a `README.md` & `.gitignore` & `.python-version` file\n",
    "- Creates a `pyproject.toml` file (modern, standardized way to define a Python project)\n"
   ]
  },
  {
   "cell_type": "markdown",
   "id": "db2d2600",
   "metadata": {},
   "source": [
    "### Step 2: Add & Manage Dependencies\n",
    "\n",
    "Now we will add and manage our project's packages. The main command is `uv add`, which is a powerful, all-in-one tool for this.\n",
    "\n",
    "> ⚡️ **Speed Comparison:** `uv` uses an advanced package resolver written in Rust that is often **10-100x faster** than `pip`. It resolves all dependencies, downloads packages, and installs them in seconds\\!\n",
    "\n",
    "-----\n",
    "\n",
    "#### **Adding Packages**\n",
    "\n",
    "Let's install all the packages we need. We'll install the latest versions of some, a specific version of another, and even one with optional extras, all in a single command.\n",
    "\n",
    "**Command to run in terminal:**\n",
    "\n",
    "```bash\n",
    "uv add xarray \"zarr<3.0\" <package-name>\n",
    "```\n",
    "\n",
    "other dependence in this workshop\n",
    "```bash\n",
    "uv add intake-xarray intake-parquet dask h5netcdf jinja2\n",
    "```\n",
    "\n",
    "\n",
    "#### **Removing Packages**\n",
    "\n",
    "What if you add a package by mistake? `uv` makes removal just as clean and simple.\n",
    "\n",
    "**Command to run in terminal:**\n",
    "\n",
    "```bash\n",
    "uv remove <pacakage-name>\n",
    "```\n",
    "\n",
    "#### **Common Command**\n",
    "\n",
    "Here is a quick summary of the basic dependency commands in `uv` and their traditional equivalents.\n",
    "\n",
    "| Command | Action | Traditional (Multi-Step) Equivalent |\n",
    "| :--- | :--- | :--- |\n",
    "| `uv add <pkg>` | Adds the latest version of a package. | `pip install <pkg>` then manually add to `requirements.txt` / `pyproject.toml`. |\n",
    "| `uv add \"<pkg> <version>\"` | Adds a package with a version constraint. | `pip install \"<pkg> <version>\"` then manually add to `requirements.txt` / `pyproject.toml`. |\n",
    "| `uv remove <pkg>` | Removes a package. | `pip uninstall <pkg>` then manually remove from `requirements.txt` / `pyproject.toml`. |\n",
    "| `uv sync` | Installs all packages listed in the lock file to match the project's state exactly. | `pip install -r requirements.txt` |"
   ]
  },
  {
   "cell_type": "markdown",
   "id": "72d7d9cc",
   "metadata": {},
   "source": [
    "### Step 3: Making the Environment Available in Jupyter\n",
    "\n",
    "Our environment is ready, but Jupyter doesn't know about it yet. We need to install `ipykernel` and then register it as a Jupyter \"kernel\".\n",
    "\n",
    "**First, add `ipykernel` as a development dependency:**\n",
    "\n",
    "```bash\n",
    "uv add --dev ipykernel\n",
    "```\n",
    ">This command adds `ipykernel` to a special `[dev]` group. This is a best practice because `ipykernel` is a tool for our development process, not a core dependency of our project itself.\n",
    "\n",
    "\n",
    "**Then, register the kernel using `uv run`:**\n",
    "\n",
    "```bash\n",
    "uv run ipython kernel install --user --env VIRTUAL_ENV $(pwd)/.venv --name=<kernel-name>\n",
    "```\n",
    "\n",
    "\n",
    "**Further Reading:** \n",
    "\n",
    "This process is the standard method for connecting a virtual environment to Jupyter, as recommended in the **[official `uv` documentation on Jupyter Integration](https://docs.astral.sh/uv/guides/integration/jupyter/#using-jupyter-within-a-project)**."
   ]
  },
  {
   "cell_type": "markdown",
   "id": "baefa4d0",
   "metadata": {},
   "source": [
    "## 3. Verification: Testing Our Environment"
   ]
  },
  {
   "cell_type": "markdown",
   "id": "a4c35bc5",
   "metadata": {},
   "source": [
    "Now let's verify that our environment is working correctly and all libraries are available.\n",
    "\n",
    "> 🔄 **Important:** Make sure you've changed your notebook kernel to \"modern-data-workflow\" via `Kernel > Change kernel` in the notebook interface."
   ]
  },
  {
   "cell_type": "code",
   "execution_count": 4,
   "id": "779470e6",
   "metadata": {},
   "outputs": [
    {
     "name": "stdout",
     "output_type": "stream",
     "text": [
      "✅ All libraries loaded successfully!\n",
      "------------------------------\n",
      "Pandas version: 2.3.1\n",
      "Xarray version: 2025.8.0\n",
      "Intake version: 2.0.8\n",
      "Dask version: 2025.7.0\n",
      "------------------------------\n",
      "Running from Python executable at: /home/NAS/homes/sungche-10024/workshop/dataset-catalog/.venv/bin/python\n",
      "Python version: 3.11.13 (main, Jun 26 2025, 21:19:53) [Clang 20.1.4 ]\n",
      "------------------------------\n",
      "🎉 Environment setup complete! Ready for the workshop.\n"
     ]
    }
   ],
   "source": [
    "import pandas as pd\n",
    "import xarray as xr\n",
    "import intake\n",
    "import dask\n",
    "import sys\n",
    "\n",
    "print(\"✅ All libraries loaded successfully!\")\n",
    "print(\"-\" * 30)\n",
    "print(f\"Pandas version: {pd.__version__}\")\n",
    "print(f\"Xarray version: {xr.__version__}\")\n",
    "print(f\"Intake version: {intake.__version__}\")\n",
    "print(f\"Dask version: {dask.__version__}\")\n",
    "print(\"-\" * 30)\n",
    "print(f\"Running from Python executable at: {sys.executable}\")\n",
    "print(f\"Python version: {sys.version}\")\n",
    "print(\"-\" * 30)\n",
    "print(\"🎉 Environment setup complete! Ready for the workshop.\")"
   ]
  },
  {
   "cell_type": "markdown",
   "id": "690e5937",
   "metadata": {},
   "source": [
    "### Additional Verification Tests\n",
    "\n",
    "Let's also verify that our key data science libraries are working properly:"
   ]
  },
  {
   "cell_type": "code",
   "execution_count": 5,
   "id": "cf170da0",
   "metadata": {},
   "outputs": [
    {
     "name": "stdout",
     "output_type": "stream",
     "text": [
      "Testing Pandas...\n",
      "Created DataFrame with shape: (3, 3)\n",
      "      name  age      city\n",
      "0    Alice   25  New York\n",
      "1      Bob   30    London\n",
      "2  Charlie   35     Tokyo\n"
     ]
    }
   ],
   "source": [
    "# Test Pandas\n",
    "print(\"Testing Pandas...\")\n",
    "df_pandas = pd.DataFrame({\n",
    "    'name': ['Alice', 'Bob', 'Charlie'],\n",
    "    'age': [25, 30, 35],\n",
    "    'city': ['New York', 'London', 'Tokyo']\n",
    "})\n",
    "print(f\"Created DataFrame with shape: {df_pandas.shape}\")\n",
    "print(df_pandas.head())"
   ]
  },
  {
   "cell_type": "code",
   "execution_count": 6,
   "id": "4bef3125",
   "metadata": {},
   "outputs": [
    {
     "name": "stdout",
     "output_type": "stream",
     "text": [
      "Testing Xarray...\n",
      "Created DataArray with shape: (10, 5, 8)\n",
      "<xarray.DataArray 'temperature' (time: 10, lat: 5, lon: 8)> Size: 3kB\n",
      "array([[[0.91989529, 0.77009264, 0.17186946, 0.30644491, 0.90954196,\n",
      "         0.98477563, 0.73067798, 0.08011099],\n",
      "        [0.49331844, 0.5022603 , 0.1162546 , 0.365627  , 0.35561235,\n",
      "         0.24169421, 0.17839048, 0.2321403 ],\n",
      "        [0.99748857, 0.20443742, 0.42629079, 0.50778914, 0.56204698,\n",
      "         0.64404535, 0.54593008, 0.30813897],\n",
      "        [0.22666878, 0.77469908, 0.4308849 , 0.56449528, 0.56825295,\n",
      "         0.77098414, 0.16593902, 0.72316592],\n",
      "        [0.59620473, 0.26608022, 0.96084171, 0.97900203, 0.28337268,\n",
      "         0.05369823, 0.05751729, 0.57698662]],\n",
      "\n",
      "       [[0.51381116, 0.8167426 , 0.20355046, 0.96403599, 0.00649609,\n",
      "         0.57327039, 0.44447663, 0.37651989],\n",
      "        [0.61270128, 0.76053223, 0.10451188, 0.29880618, 0.14827027,\n",
      "         0.96773942, 0.89200144, 0.34983347],\n",
      "        [0.38525159, 0.77857457, 0.45395781, 0.3694412 , 0.53283492,\n",
      "         0.46603836, 0.20302028, 0.19861183],\n",
      "        [0.74476052, 0.61766946, 0.8130035 , 0.26532483, 0.05718917,\n",
      "         0.13459484, 0.0485211 , 0.84810521],\n",
      "        [0.99973473, 0.88392851, 0.62772069, 0.20536233, 0.86379785,\n",
      "...\n",
      "         0.87459178, 0.29231958, 0.22678384],\n",
      "        [0.14566574, 0.82735422, 0.61481968, 0.08041968, 0.35209192,\n",
      "         0.34936274, 0.89183341, 0.38443828],\n",
      "        [0.90638305, 0.83475264, 0.74812181, 0.6508873 , 0.77840496,\n",
      "         0.83100236, 0.79977925, 0.39058498],\n",
      "        [0.71025975, 0.61516388, 0.16234744, 0.73940301, 0.67487739,\n",
      "         0.21376485, 0.16267215, 0.46319637],\n",
      "        [0.57143266, 0.35901361, 0.78695425, 0.49697702, 0.89197764,\n",
      "         0.43929165, 0.30897074, 0.04670918]],\n",
      "\n",
      "       [[0.61739952, 0.46398974, 0.02602784, 0.80380957, 0.44211865,\n",
      "         0.57751056, 0.40217138, 0.06804513],\n",
      "        [0.80486967, 0.30280238, 0.12792625, 0.68037569, 0.31409976,\n",
      "         0.93782641, 0.26612525, 0.27341658],\n",
      "        [0.04437983, 0.61077737, 0.67638379, 0.43379562, 0.40748338,\n",
      "         0.41180614, 0.39481989, 0.95302455],\n",
      "        [0.23635067, 0.04892962, 0.64013564, 0.25138721, 0.52300372,\n",
      "         0.82372069, 0.74241815, 0.80806918],\n",
      "        [0.61480407, 0.92564647, 0.90104378, 0.55597641, 0.03854232,\n",
      "         0.37290002, 0.43250623, 0.38034549]]])\n",
      "Coordinates:\n",
      "  * time     (time) datetime64[ns] 80B 2023-01-01 2023-01-02 ... 2023-01-10\n",
      "  * lat      (lat) float64 40B -90.0 -45.0 0.0 45.0 90.0\n",
      "  * lon      (lon) float64 64B -180.0 -128.6 -77.14 -25.71 ... 77.14 128.6 180.0\n"
     ]
    }
   ],
   "source": [
    "# Test Xarray\n",
    "print(\"Testing Xarray...\")\n",
    "import numpy as np\n",
    "\n",
    "# Create a simple 3D array (time, lat, lon)\n",
    "data = np.random.rand(10, 5, 8)\n",
    "coords = {\n",
    "    'time': pd.date_range('2023-01-01', periods=10),\n",
    "    'lat': np.linspace(-90, 90, 5),\n",
    "    'lon': np.linspace(-180, 180, 8)\n",
    "}\n",
    "da = xr.DataArray(data, coords=coords, dims=['time', 'lat', 'lon'], name='temperature')\n",
    "print(f\"Created DataArray with shape: {da.shape}\")\n",
    "print(da)"
   ]
  },
  {
   "cell_type": "markdown",
   "id": "1f07f5ef",
   "metadata": {},
   "source": [
    "## 4. Recap: What We Gained with `uv`"
   ]
  },
  {
   "cell_type": "markdown",
   "id": "2d898097",
   "metadata": {},
   "source": [
    "\n",
    "### Key Benefits\n",
    "\n",
    "* **⚡️ Speed:** We set up a complex environment in seconds, not minutes.\n",
    "* **📦 All-in-One:** We used a single tool (`uv`) instead of juggling `venv`, `pip`, and `pip-tools`.\n",
    "* **🔄 Reproducibility:** Our dependencies are locked in `pyproject.toml`, so any team member can create an identical environment with a simple `uv sync`.\n",
    "* **🎯 Modern Standards:** We're using `pyproject.toml` which is the modern Python packaging standard.\n",
    "\n",
    "### What `uv` Did for Us\n",
    "\n",
    "1. **Environment Creation:** Created an isolated Python environment (`.venv`)\n",
    "2. **Dependency Resolution:** Resolved complex dependency trees ultra-fast\n",
    "3. **Package Installation:** Downloaded and installed all packages\n",
    "4. **Lock File Generation:** Created exact version specifications\n",
    "5. **Project Definition:** Set up proper `pyproject.toml` configuration\n",
    "\n",
    "### Traditional vs Modern Workflow\n",
    "\n",
    "| Task | Traditional Way | The `uv` Way |\n",
    "|------|----------------|--------------|\n",
    "| Create environment | `python -m venv .venv` | `uv venv`|\n",
    "| Run script | `source .venv/bin/activate` + `python run main.py` | `uv run main.py`|\n",
    "| Install packages | `pip install pandas polars ...` | `uv add pandas polars ...` |\n",
    "| Lock dependencies | `pip freeze > requirements.txt` | Automatic in `uv.lock` |\n",
    "| Reproduce environment | `pip install -r requirements.txt` | `uv sync` |"
   ]
  },
  {
   "cell_type": "markdown",
   "id": "1c3ff787",
   "metadata": {},
   "source": [
    "## 5. Useful `uv` Commands Reference"
   ]
  },
  {
   "cell_type": "markdown",
   "id": "02ae7794",
   "metadata": {},
   "source": [
    "\n",
    "Here are some essential `uv` commands you'll use in your daily workflow:\n",
    "\n",
    "### Project Management\n",
    "```bash\n",
    "uv init                    # Initialize a new project\n",
    "uv add <package>          # Add a new dependency\n",
    "uv remove <package>       # Remove a dependency\n",
    "uv sync                   # Install dependencies from lock file\n",
    "```\n",
    "\n",
    "### Environment Management\n",
    "```bash\n",
    "uv venv                   # Create virtual environment only\n",
    "uv run <command>          # Run command in the environment\n",
    "uv run python script.py  # Run Python script with dependencies\n",
    "uv run jupyter lab        # Start Jupyter Lab with all dependencies\n",
    "```\n",
    "\n",
    "### Information Commands\n",
    "```bash\n",
    "uv tree                   # Show dependency tree\n",
    "uv list                   # List installed packages\n",
    "uv show <package>         # Show package information\n",
    "```\n",
    "\n",
    "### Advanced Usage\n",
    "```bash\n",
    "uv add <package> --dev     # Add a development dependency\n",
    "uv python list             # List all Python versions installed via uv\n",
    "uv python install <version> # Install a specific Python version\n",
    "```\n",
    "\n",
    "\n",
    "common shell: https://docs.astral.sh/uv/getting-started/features/"
   ]
  }
 ],
 "metadata": {
  "kernelspec": {
   "display_name": "test-workshop",
   "language": "python",
   "name": "test-workshop"
  },
  "language_info": {
   "codemirror_mode": {
    "name": "ipython",
    "version": 3
   },
   "file_extension": ".py",
   "mimetype": "text/x-python",
   "name": "python",
   "nbconvert_exporter": "python",
   "pygments_lexer": "ipython3",
   "version": "3.11.13"
  }
 },
 "nbformat": 4,
 "nbformat_minor": 5
}
